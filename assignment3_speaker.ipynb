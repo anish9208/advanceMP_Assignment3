{
 "cells": [
  {
   "cell_type": "code",
   "execution_count": 13,
   "metadata": {
    "collapsed": false
   },
   "outputs": [
    {
     "name": "stdout",
     "output_type": "stream",
     "text": [
      "all speakers preprocessing done...\n"
     ]
    }
   ],
   "source": [
    "import numpy as np\n",
    "import scipy.io.wavfile\n",
    "from scikits.talkbox.features import mfcc\n",
    "import glob\n",
    "import os\n",
    "\n",
    "path_to_train_audio_file = \"/home/anjani/AMP/assignment_3/spk_rec_data_with_division/train\"\n",
    "\n",
    "all_spk_path = [x[0] for x in os.walk(path_to_train_audio_file)][1:]\n",
    "\n",
    "all_speaker_features = {}\n",
    "\n",
    "for path in all_spk_path:\n",
    "    all_audio_files = glob.glob(path+\"/*.wav\")\n",
    "\n",
    "    spk_audio_features = []\n",
    "    \n",
    "    for i in all_audio_files:\n",
    "        sample_rate, X = scipy.io.wavfile.read(i)\n",
    "        ceps, mspec, spec = mfcc(X)\n",
    "        num_mspec = len(mspec)\n",
    "        spk_audio_features.extend(mspec)\n",
    "        \n",
    "    all_speaker_features[path.rsplit('/',1)[1]] = spk_audio_features\n",
    "\n",
    "print 'all speakers preprocessing done...'"
   ]
  },
  {
   "cell_type": "code",
   "execution_count": 15,
   "metadata": {
    "collapsed": false
   },
   "outputs": [
    {
     "name": "stdout",
     "output_type": "stream",
     "text": [
      "fitting fnkl0\n",
      "fitting mmws0\n",
      "fitting fclt0\n",
      "fitting fjrb0\n",
      "fitting mrre0\n",
      "fitting mbsb0\n",
      "fitting mrdm0\n",
      "fitting mtcs0\n",
      "fitting mmlm0\n",
      "fitting mmea0\n",
      "fitting mejs0\n",
      "fitting mkdd0\n",
      "fitting mkrg0\n",
      "fitting mbcg0\n",
      "fitting mcxm0\n",
      "fitting fpls0\n",
      "fitting fceg0\n",
      "fitting mmpm0\n",
      "fitting fklh0\n",
      "fitting mrlk0\n",
      "fitting fbcg1\n",
      "fitting fmbg0\n"
     ]
    }
   ],
   "source": [
    "from sklearn.mixture import GaussianMixture\n",
    "\n",
    "all_speaker_gmm = {}\n",
    "\n",
    "speaker_names = []\n",
    "\n",
    "for key in all_speaker_features:\n",
    "    all_speaker_gmm[key] = GaussianMixture(covariance_type='full' , n_components= 32).fit(all_speaker_features[key])\n",
    "    speaker_names.append(key)\n",
    "    print \"fitting \"+key"
   ]
  },
  {
   "cell_type": "code",
   "execution_count": 17,
   "metadata": {
    "collapsed": false
   },
   "outputs": [
    {
     "name": "stdout",
     "output_type": "stream",
     "text": [
      "['fnkl0', 'mmws0', 'fclt0', 'fjrb0', 'mrre0', 'mbsb0', 'mrdm0', 'mtcs0', 'mmlm0', 'mmea0', 'mejs0', 'mkdd0', 'mkrg0', 'mbcg0', 'mcxm0', 'fpls0', 'fceg0', 'mmpm0', 'fklh0', 'mrlk0', 'fbcg1', 'fmbg0']\n"
     ]
    }
   ],
   "source": [
    "print speaker_names"
   ]
  },
  {
   "cell_type": "code",
   "execution_count": null,
   "metadata": {
    "collapsed": false,
    "scrolled": true
   },
   "outputs": [
    {
     "name": "stdout",
     "output_type": "stream",
     "text": [
      "predicted right fmbg0\n",
      "predicted right fmbg0\n",
      "predicted right fmbg0\n",
      "predicted right fmbg0\n",
      "predicted right fmbg0\n",
      "predicted right fmbg0\n",
      "predicted right fmbg0\n",
      "predicted right fmbg0\n",
      "predicted right fmbg0\n",
      "predicted right fmbg0\n",
      "predicted wrong fmbg0\n",
      "predicted wrong fmbg0\n",
      "predicted right fmbg0\n",
      "predicted right fmbg0\n",
      "predicted right fmbg0\n"
     ]
    }
   ],
   "source": [
    "from scipy import stats\n",
    "import warnings\n",
    "\n",
    "warnings.filterwarnings('ignore')\n",
    "\n",
    "# testing...\n",
    "\n",
    "path_to_test_audio_file = \"/home/anjani/AMP/assignment_3/spk_rec_data_with_division/test\"\n",
    "\n",
    "total = {}\n",
    "correct = {}\n",
    "incorrect = {}\n",
    "\n",
    "for speaker in speaker_names:\n",
    "    total[speaker] = 0\n",
    "    correct[speaker] = 0\n",
    "    incorrect[speaker] = 0\n",
    "\n",
    "for speaker in speaker_names:\n",
    "    \n",
    "    audio_features = []\n",
    "    all_audio_files = glob.glob(path_to_test_audio_file+\"/\"+speaker+\"/*.wav\") \n",
    "    max_match = 0 \n",
    "    actual_label = speaker\n",
    "    \n",
    "    for i in all_audio_files:\n",
    "        \n",
    "        sample_rate, X = scipy.io.wavfile.read(i)\n",
    "        ceps, mspec, spec = mfcc(X)\n",
    "        num_mspec = len(mspec)\n",
    "        audio_features.extend(mspec)\n",
    "        spk_arry = []\n",
    "        predict_lable = \"\"\n",
    "        \n",
    "        for one_row in audio_features :\n",
    "            max_match = 0\n",
    "            predicted_lable = \"\"\n",
    "            for each_spk in all_speaker_gmm :\n",
    "                score = np.exp(all_speaker_gmm[each_spk].score_samples(one_row))\n",
    "                if score >= max_match:\n",
    "                    max_match = score\n",
    "                    predicted_lable = each_spk\n",
    "\n",
    "            spk_arry.append(predicted_lable)\n",
    "        predict_lable = max(set(spk_arry), key = spk_arry.count)\n",
    "\n",
    "        if actual_label == predict_lable:\n",
    "            print 'predicted right',lang\n",
    "            correct[actual_label] = correct[actual_label]+1\n",
    "        else:\n",
    "            print 'predicted wrong',lang\n",
    "            incorrect[actual_label] = incorrect[actual_label] + 1\n",
    "            \n",
    "        total[actual_label] += 1\n",
    "\n",
    "print correct\n",
    "print incorrect\n",
    "print total"
   ]
  },
  {
   "cell_type": "code",
   "execution_count": 9,
   "metadata": {
    "collapsed": false
   },
   "outputs": [
    {
     "name": "stdout",
     "output_type": "stream",
     "text": [
      "accuracy is :  0.954545454545\n"
     ]
    }
   ],
   "source": [
    "tot_correct = 0\n",
    "tot_incorrect = 0\n",
    "\n",
    "for lang in language_names:\n",
    "    tot_correct += correct[lang]\n",
    "    tot_incorrect += incorrect[lang]\n",
    "accuracy = (1.0 * tot_correct)/(tot_correct + tot_incorrect)\n",
    "\n",
    "print 'accuracy is : ',accuracy"
   ]
  }
 ],
 "metadata": {
  "anaconda-cloud": {},
  "kernelspec": {
   "display_name": "Python [default]",
   "language": "python",
   "name": "python2"
  },
  "language_info": {
   "codemirror_mode": {
    "name": "ipython",
    "version": 2
   },
   "file_extension": ".py",
   "mimetype": "text/x-python",
   "name": "python",
   "nbconvert_exporter": "python",
   "pygments_lexer": "ipython2",
   "version": "2.7.12"
  }
 },
 "nbformat": 4,
 "nbformat_minor": 1
}
