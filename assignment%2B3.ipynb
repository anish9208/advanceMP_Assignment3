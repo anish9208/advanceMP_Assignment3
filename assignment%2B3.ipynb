{
 "cells": [
  {
   "cell_type": "code",
   "execution_count": 100,
   "metadata": {
    "collapsed": false
   },
   "outputs": [
    {
     "name": "stdout",
     "output_type": "stream",
     "text": [
      "(7795, 40)\n",
      "(11391, 40)\n",
      "(6591, 40)\n",
      "(7831, 40)\n"
     ]
    }
   ],
   "source": [
    "import numpy as np\n",
    "import scipy.io.wavfile\n",
    "from scikits.talkbox.features import mfcc\n",
    "import glob\n",
    "import os\n",
    "\n",
    "path_to_train_audio_file = \"/home/anjani/AMP/assignment_3/lang_rec_data_with_division/train\"\n",
    "\n",
    "all_lang_path = [x[0] for x in os.walk(path_to_train_audio_file)][1:]\n",
    "\n",
    "all_language_features = {}\n",
    "\n",
    "for path in all_lang_path:\n",
    "    all_audio_files = glob.glob(path+\"/*.wav\")\n",
    "\n",
    "    lang_audio_features = []\n",
    "    \n",
    "    for i in all_audio_files:\n",
    "        sample_rate, X = scipy.io.wavfile.read(i)\n",
    "        ceps, mspec, spec = mfcc(X)\n",
    "        num_mspec = len(mspec)\n",
    "        if path.rsplit('/',1)[1] == 'odia' :\n",
    "            lang_audio_features.extend(mspec[int(3 * num_mspec / 10):int(num_mspec * 7.5 / 10)])\n",
    "        else :\n",
    "            lang_audio_features.extend(mspec)\n",
    "        \n",
    "    all_language_features[path.rsplit('/',1)[1]] = lang_audio_features\n",
    "\n",
    "print np.shape(all_language_features['odia'])\n",
    "print np.shape(all_language_features['kannada'])\n",
    "print np.shape(all_language_features['telugu'])\n",
    "print np.shape(all_language_features['bengali'])\n"
   ]
  },
  {
   "cell_type": "code",
   "execution_count": 101,
   "metadata": {
    "collapsed": false
   },
   "outputs": [
    {
     "name": "stdout",
     "output_type": "stream",
     "text": [
      "fitting odia\n",
      "fitting bengali\n",
      "fitting telugu\n",
      "fitting kannada\n"
     ]
    }
   ],
   "source": [
    "from sklearn.mixture import GaussianMixture\n",
    "\n",
    "all_language_gmm = {}\n",
    "\n",
    "language_names = []\n",
    "\n",
    "for key in all_language_features:\n",
    "    all_language_gmm[key] = GaussianMixture(covariance_type='full' , n_components= 25).fit(all_language_features[key])\n",
    "    language_names.append(key)\n",
    "    print \"fitting \"+key"
   ]
  },
  {
   "cell_type": "code",
   "execution_count": 93,
   "metadata": {
    "collapsed": false
   },
   "outputs": [
    {
     "name": "stdout",
     "output_type": "stream",
     "text": [
      "['odia', 'bengali', 'telugu', 'kannada']\n"
     ]
    }
   ],
   "source": [
    "print language_names"
   ]
  },
  {
   "cell_type": "code",
   "execution_count": 104,
   "metadata": {
    "collapsed": false,
    "scrolled": true
   },
   "outputs": [
    {
     "name": "stdout",
     "output_type": "stream",
     "text": [
      "{'odia': 4, 'bengali': 2, 'telugu': 4, 'kannada': 3}\n",
      "{'odia': 0, 'bengali': 2, 'telugu': 0, 'kannada': 1}\n",
      "{'odia': 4, 'bengali': 4, 'telugu': 4, 'kannada': 4}\n"
     ]
    }
   ],
   "source": [
    "from scipy import stats\n",
    "import warnings\n",
    "\n",
    "warnings.filterwarnings('ignore')\n",
    "\n",
    "# testing...\n",
    "\n",
    "path_to_test_audio_file = \"/home/anjani/AMP/assignment_3/lang_rec_data_with_division/test\"\n",
    "\n",
    "total = {}\n",
    "correct = {}\n",
    "incorrect = {}\n",
    "\n",
    "for lang in language_names:\n",
    "    total[lang] = 0\n",
    "    correct[lang] = 0\n",
    "    incorrect[lang] = 0\n",
    "\n",
    "for lang in language_names:\n",
    "    \n",
    "    audio_features = []\n",
    "    all_audio_files = glob.glob(path_to_test_audio_file+\"/\"+lang+\"/*.wav\") \n",
    "    max_match = 0 \n",
    "    actual_label = lang\n",
    "    \n",
    "    for i in all_audio_files:\n",
    "        \n",
    "        sample_rate, X = scipy.io.wavfile.read(i)\n",
    "        ceps, mspec, spec = mfcc(X)\n",
    "        num_mspec = len(mspec)\n",
    "        if lang == 'odia' :\n",
    "            audio_features.extend(mspec[int(3 * num_mspec / 10):int(num_mspec * 7.5 / 10)])\n",
    "        else :\n",
    "            audio_features.extend(mspec)\n",
    "        lang_arry = []\n",
    "        predict_lable = \"\"\n",
    "        \n",
    "        for one_row in audio_features :\n",
    "            max_match = 0\n",
    "            predicted_lable = \"\"\n",
    "            for each_lang in all_language_gmm :\n",
    "                score = np.exp(all_language_gmm[each_lang].score_samples(one_row))\n",
    "                if score >= max_match:\n",
    "                    max_match = score\n",
    "                    predicted_lable = each_lang\n",
    "\n",
    "            lang_arry.append(predicted_lable)\n",
    "        predict_lable = max(set(lang_arry), key = lang_arry.count)\n",
    "    \n",
    "        if actual_label == predict_lable:\n",
    "            correct[actual_label] = correct[actual_label]+1\n",
    "            # print actual_label, predict_lable, \"..... correct\", correct[actual_label]\n",
    "        else:\n",
    "            incorrect[actual_label] = incorrect[actual_label] + 1\n",
    "            # print actual_label, predict_lable, \"..... incorrect\", incorrect[actual_label]\n",
    "            \n",
    "        total[actual_label] += 1\n",
    "\n",
    "print correct\n",
    "print incorrect\n",
    "print total"
   ]
  },
  {
   "cell_type": "code",
   "execution_count": 115,
   "metadata": {
    "collapsed": false
   },
   "outputs": [
    {
     "name": "stdout",
     "output_type": "stream",
     "text": [
      "accuracy is :  0.8125\n"
     ]
    }
   ],
   "source": [
    "tot_correct = 0\n",
    "tot_incorrect = 0\n",
    "\n",
    "for lang in language_names:\n",
    "    tot_correct += correct[lang]\n",
    "    tot_incorrect += incorrect[lang]\n",
    "accuracy = (1.0 * tot_correct)/(tot_correct + tot_incorrect)\n",
    "\n",
    "print 'accuracy is : ',accuracy"
   ]
  }
 ],
 "metadata": {
  "anaconda-cloud": {},
  "kernelspec": {
   "display_name": "Python [default]",
   "language": "python",
   "name": "python2"
  },
  "language_info": {
   "codemirror_mode": {
    "name": "ipython",
    "version": 2
   },
   "file_extension": ".py",
   "mimetype": "text/x-python",
   "name": "python",
   "nbconvert_exporter": "python",
   "pygments_lexer": "ipython2",
   "version": "2.7.12"
  }
 },
 "nbformat": 4,
 "nbformat_minor": 1
}
